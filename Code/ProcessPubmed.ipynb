{
 "cells": [
  {
   "cell_type": "code",
   "execution_count": 33,
   "metadata": {},
   "outputs": [],
   "source": [
    "#This file convert the pubmed QA dataset (https://andy-jqa.github.io/doc/PubMedQA.pdf) \n",
    "#into SQUAD format for yes/no type questions which can be used for training the model.  \n",
    "import json"
   ]
  },
  {
   "cell_type": "code",
   "execution_count": 50,
   "metadata": {},
   "outputs": [],
   "source": [
    "class ProcessPubmed:\n",
    "    def  __init__(self,data_file_path,output_file):\n",
    "        self.loadFromJson(data_file_path)\n",
    "        self.yes_no_data = {\"version\":\"BioASQ8b\",\"data\":[{\"title\":\"PUBMED\",\"paragraphs\":[]}]}\n",
    "        self.single_example = {\"context\":\"\",\"qas\":[{\"question\":\"\",\"id\":\"\",\"answers\":\"\",\"is_impossible\":False}]}\n",
    "        self.output_file = output_file\n",
    "        \n",
    "    def loadFromJson(self,data_file):\n",
    "        with open(data_file, 'r') as f:\n",
    "            datastore = json.load(f)\n",
    "        self.datastore = datastore\n",
    "        return datastore\n",
    "    \n",
    "    def createQuestionAnswerPair(self,question,context,label,answer,qid):\n",
    "        self.single_example = {\"context\":\"\",\"qas\":[{\"question\":\"\",\"id\":\"\",\"answers\":\"\",\"is_impossible\":False}]}\n",
    "        self.single_example[\"context\"] =context\n",
    "        self.single_example[\"qas\"][0][\"question\"] = question\n",
    "        self.single_example[\"qas\"][0][\"id\"] = qid\n",
    "        self.single_example[\"qas\"][0][\"answers\"] = answer\n",
    "        if answer==\"yes\":\n",
    "            print(\"yes\")\n",
    "            self.single_example[\"qas\"][0][\"is_impossible\"] = False\n",
    "        else:\n",
    "            self.single_example[\"qas\"][0][\"is_impossible\"] = True\n",
    "        self.yes_no_data[\"data\"][0][\"paragraphs\"].append(self.single_example)\n",
    "        \n",
    "    def ProcessEachQuestion(self,ques_data,qid):\n",
    "        #Following are the cols available \"QUESTION\",\"CONTEXTS\" [],\"LABELS\" [],\"MESHES\"[] ,\"LONG_ANSWER\",\"final_decision\"\n",
    "        if ques_data[\"final_decision\"]==\"maybe\":\n",
    "            return\n",
    "        for i in range(0,len(ques_data[\"LABELS\"])):\n",
    "            if i<10:\n",
    "                ques_id = qid+qid+qid+\"_00\"+str(i)\n",
    "            else:\n",
    "                ques_id = qid+qid+qid+\"_0\"+str(i)            \n",
    "            self.createQuestionAnswerPair(ques_data[\"QUESTION\"],ques_data[\"CONTEXTS\"][i],ques_data[\"LABELS\"][i],ques_data[\"final_decision\"],ques_id)\n",
    "\n",
    "    def ProcessEntireData(self):\n",
    "        for data in self.datastore:\n",
    "            self.ProcessEachQuestion(self.datastore[data],data)\n",
    "        self.WriteCSVFile()\n",
    "        \n",
    "    def WriteCSVFile(self):\n",
    "        with open(self.output_file, 'w+', encoding='utf-8') as outfile:\n",
    "            json.dump(self.yes_no_data, outfile,indent=5)"
   ]
  },
  {
   "cell_type": "code",
   "execution_count": null,
   "metadata": {},
   "outputs": [],
   "source": [
    "process_pm = ProcessPubmed(\"../Dataset/Pubmed/ori_pqal.json\",\"../Dataset/Pubmed/pubmed_squad_format.json\")\n",
    "process_pm.ProcessEntireData()"
   ]
  },
  {
   "cell_type": "code",
   "execution_count": null,
   "metadata": {},
   "outputs": [],
   "source": []
  }
 ],
 "metadata": {
  "kernelspec": {
   "display_name": "Python 3",
   "language": "python",
   "name": "python3"
  },
  "language_info": {
   "codemirror_mode": {
    "name": "ipython",
    "version": 3
   },
   "file_extension": ".py",
   "mimetype": "text/x-python",
   "name": "python",
   "nbconvert_exporter": "python",
   "pygments_lexer": "ipython3",
   "version": "3.7.6"
  }
 },
 "nbformat": 4,
 "nbformat_minor": 2
}
