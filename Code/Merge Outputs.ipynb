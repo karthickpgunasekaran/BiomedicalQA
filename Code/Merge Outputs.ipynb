{
 "cells": [
  {
   "cell_type": "code",
   "execution_count": 1,
   "metadata": {},
   "outputs": [],
   "source": [
    "import json"
   ]
  },
  {
   "cell_type": "code",
   "execution_count": 29,
   "metadata": {},
   "outputs": [
    {
     "data": {
      "text/plain": [
       "'\\n            elif  each_ques[\"type\"]==\"list\" and do_list:\\n                dict_val ={\"type\":\"list\",\"id\":each_ques[\"id\"],\"ideal_answer\":[\"Dummy\"],\"exact_answer\":[[\"acromelic frontonasal dysostosis\"]]}\\n'"
      ]
     },
     "execution_count": 29,
     "metadata": {},
     "output_type": "execute_result"
    }
   ],
   "source": [
    "class MergeFiles:\n",
    "    #LOAD json file\n",
    "    def  __init__(self,data_file,yesno_file,factoid_file,list_file=None,summary_file=None,output_dir=None):\n",
    "        self.data_file =data_file\n",
    "        self.yesno = yesno_file\n",
    "        self.factoid = factoid_file\n",
    "        self.list_file = list_file\n",
    "        self.summary = summary_file\n",
    "        self.output_dir =output_dir#\"../submission/1/\"\n",
    "        self.final_json = {\"questions\":[]}\n",
    "        \n",
    "    def loadFromJson(self,data_file):\n",
    "        with open(data_file, 'r') as f:\n",
    "            datastore = json.load(f)\n",
    "        return datastore\n",
    "    \n",
    "    def ProcessFiles(self):\n",
    "        li =[]\n",
    "        #write yesno \n",
    "        if self.yesno is not None:\n",
    "            yesno_json = self.loadFromJson(self.yesno)\n",
    "            print(\"yesno :\",len(yesno_json[\"questions\"]))\n",
    "            for i in range(len(yesno_json[\"questions\"])):\n",
    "                yesno_json[\"questions\"][i][\"ideal_answer\"]=\"\"\n",
    "                self.final_json[\"questions\"].append(yesno_json[\"questions\"][i])\n",
    "        else:\n",
    "            li.append(\"yesno\")\n",
    "            \n",
    "        \n",
    "        \n",
    "        #write factoid questions\n",
    "        if self.factoid is not None:\n",
    "            factoid_json = self.loadFromJson(self.factoid)\n",
    "            print(\"factoid :\",len(factoid_json[\"questions\"]))\n",
    "            for i in range(len(factoid_json[\"questions\"])):\n",
    "                factoid_json[\"questions\"][i][\"ideal_answer\"]=\"\"\n",
    "                self.final_json[\"questions\"].append(factoid_json[\"questions\"][i])\n",
    "        else:\n",
    "            li.append(\"factoid\")\n",
    "            \n",
    "            \n",
    "        #write list questions \n",
    "        do_list =False\n",
    "        if self.list_file is not None:\n",
    "            list_json = self.loadFromJson(self.list_file)\n",
    "            print(\"list :\",len(list_json[\"questions\"]))\n",
    "            for i in range(len(list_json[\"questions\"])):\n",
    "                list_json[\"questions\"][i][\"ideal_answer\"]=\"\"\n",
    "                self.final_json[\"questions\"].append(list_json[\"questions\"][i])\n",
    "        else:\n",
    "            li.append(\"list\")\n",
    "            do_list=True\n",
    "        #write summary questions as is    \n",
    "        data_json = self.loadFromJson(self.data_file)\n",
    "        for i in range(len(data_json[\"questions\"])):\n",
    "            each_ques =data_json[\"questions\"][i]\n",
    "            dict_val = {}\n",
    "            if each_ques[\"type\"]==\"summary\":\n",
    "                dict_val ={\"type\":\"summary\",\"id\":each_ques[\"id\"],\"ideal_answer\":\"\"}\n",
    "            else:\n",
    "                continue\n",
    "\n",
    "            self.final_json[\"questions\"].append(dict_val)\n",
    "        print(\"Total ques:\",len(self.final_json[\"questions\"]))\n",
    "        self.WriteCSVFile(\"Submission_czi_umass1.json\",self.final_json)\n",
    "        \n",
    "    def WriteCSVFile(self,filename,json_data):\n",
    "        with open(self.output_dir+filename, 'w+', encoding='utf-8') as outfile:\n",
    "            json.dump(json_data, outfile,indent=5)\n",
    "            \n",
    "            \n",
    "            \n",
    "'''\n",
    "            elif  each_ques[\"type\"]==\"list\" and do_list:\n",
    "                dict_val ={\"type\":\"list\",\"id\":each_ques[\"id\"],\"ideal_answer\":[\"Dummy\"],\"exact_answer\":[[\"acromelic frontonasal dysostosis\"]]}\n",
    "'''"
   ]
  },
  {
   "cell_type": "code",
   "execution_count": 30,
   "metadata": {},
   "outputs": [
    {
     "name": "stdout",
     "output_type": "stream",
     "text": [
      "yesno : 31\n",
      "factoid : 28\n",
      "list : 12\n",
      "Total ques: 100\n"
     ]
    }
   ],
   "source": [
    "data_file =\"BioASQ-task8bPhaseB-testset3\"\n",
    "yesno=\"yesno/submission1.json\"\n",
    "factoid =\"factoid/submission1.json\"\n",
    "list_ques=\"list/submission1.json\"\n",
    "output_dir = \"\"\n",
    "mf = MergeFiles(data_file,yesno,factoid,list_ques,output_dir=output_dir)\n",
    "mf.ProcessFiles()"
   ]
  },
  {
   "cell_type": "code",
   "execution_count": null,
   "metadata": {},
   "outputs": [],
   "source": []
  }
 ],
 "metadata": {
  "kernelspec": {
   "display_name": "Python 3",
   "language": "python",
   "name": "python3"
  },
  "language_info": {
   "codemirror_mode": {
    "name": "ipython",
    "version": 3
   },
   "file_extension": ".py",
   "mimetype": "text/x-python",
   "name": "python",
   "nbconvert_exporter": "python",
   "pygments_lexer": "ipython3",
   "version": "3.7.6"
  }
 },
 "nbformat": 4,
 "nbformat_minor": 2
}
